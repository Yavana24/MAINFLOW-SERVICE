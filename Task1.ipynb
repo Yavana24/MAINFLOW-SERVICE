{
 "cells": [
  {
   "cell_type": "code",
   "execution_count": 1,
   "id": "91508b91-9be4-4ac2-93a0-a0d37259a896",
   "metadata": {},
   "outputs": [
    {
     "name": "stdin",
     "output_type": "stream",
     "text": [
      "Enter first number:  10\n",
      "Enter second number:  40\n"
     ]
    },
    {
     "name": "stdout",
     "output_type": "stream",
     "text": [
      "Sum: 50\n"
     ]
    }
   ],
   "source": [
    "# Input two integers\n",
    "a = int(input(\"Enter first number: \"))\n",
    "b = int(input(\"Enter second number: \"))\n",
    "\n",
    "# Output their sum\n",
    "print(\"Sum:\", a + b)\n"
   ]
  },
  {
   "cell_type": "code",
   "execution_count": 3,
   "id": "981b8102-67f1-4bce-b925-7d107ce8cf1d",
   "metadata": {},
   "outputs": [
    {
     "name": "stdin",
     "output_type": "stream",
     "text": [
      "Enter a number:  34\n"
     ]
    },
    {
     "name": "stdout",
     "output_type": "stream",
     "text": [
      "Even\n"
     ]
    }
   ],
   "source": [
    "# Input a single integer\n",
    "number = int(input(\"Enter a number: \"))\n",
    "\n",
    "# Check and output whether it is odd or even\n",
    "if number % 2 == 0:\n",
    "    print(\"Even\")\n",
    "else:\n",
    "    print(\"Odd\")\n"
   ]
  },
  {
   "cell_type": "code",
   "execution_count": 5,
   "id": "1e51ef6b-a3ae-4b34-bb73-7968562ff7fd",
   "metadata": {},
   "outputs": [
    {
     "name": "stdin",
     "output_type": "stream",
     "text": [
      "Enter a number:  12\n"
     ]
    },
    {
     "name": "stdout",
     "output_type": "stream",
     "text": [
      "Factorial: 479001600\n"
     ]
    }
   ],
   "source": [
    "# Input an integer\n",
    "n = int(input(\"Enter a number: \"))\n",
    "\n",
    "# Calculate factorial using a loop\n",
    "factorial = 1\n",
    "for i in range(1, n + 1):\n",
    "    factorial *= i\n",
    "\n",
    "# Output the factorial\n",
    "print(\"Factorial:\", factorial)\n"
   ]
  },
  {
   "cell_type": "code",
   "execution_count": 7,
   "id": "8e5318ec-c9c5-4665-8f1e-7720997b2de4",
   "metadata": {},
   "outputs": [
    {
     "name": "stdin",
     "output_type": "stream",
     "text": [
      "Enter the number of terms:  11\n"
     ]
    },
    {
     "name": "stdout",
     "output_type": "stream",
     "text": [
      "Fibonacci Sequence: [0, 1, 1, 2, 3, 5, 8, 13, 21, 34, 55]\n"
     ]
    }
   ],
   "source": [
    "# Input the number of Fibonacci terms\n",
    "n = int(input(\"Enter the number of terms: \"))\n",
    "\n",
    "# Generate Fibonacci sequence\n",
    "fib_sequence = []\n",
    "a, b = 0, 1\n",
    "for _ in range(n):\n",
    "    fib_sequence.append(a)\n",
    "    a, b = b, a + b\n",
    "\n",
    "# Output the sequence\n",
    "print(\"Fibonacci Sequence:\", fib_sequence)\n"
   ]
  },
  {
   "cell_type": "code",
   "execution_count": 9,
   "id": "7fad73a9-40e5-494d-825f-ce92c158fe93",
   "metadata": {},
   "outputs": [
    {
     "name": "stdin",
     "output_type": "stream",
     "text": [
      "Enter a string:  world\n"
     ]
    },
    {
     "name": "stdout",
     "output_type": "stream",
     "text": [
      "Reversed String: dlrow\n"
     ]
    }
   ],
   "source": [
    "# Input a string\n",
    "string = input(\"Enter a string: \")\n",
    "\n",
    "# Output the reversed string\n",
    "print(\"Reversed String:\", string[::-1])\n"
   ]
  },
  {
   "cell_type": "code",
   "execution_count": 12,
   "id": "86197865-11de-4916-b0aa-4663f7ef00d4",
   "metadata": {},
   "outputs": [
    {
     "name": "stdin",
     "output_type": "stream",
     "text": [
      "Enter a string:  A string\n"
     ]
    },
    {
     "name": "stdout",
     "output_type": "stream",
     "text": [
      "False\n"
     ]
    }
   ],
   "source": [
    "# Input a string\n",
    "string = input(\"Enter a string: \")\n",
    "\n",
    "# Check if palindrome and output result\n",
    "if string == string[::-1]:\n",
    "    print(\"True\")\n",
    "else:\n",
    "    print(\"False\")\n"
   ]
  },
  {
   "cell_type": "code",
   "execution_count": 15,
   "id": "f3cf4426-685c-4ae1-8ec1-cfd39e7a5857",
   "metadata": {},
   "outputs": [
    {
     "name": "stdin",
     "output_type": "stream",
     "text": [
      "Enter a year:  2003\n"
     ]
    },
    {
     "name": "stdout",
     "output_type": "stream",
     "text": [
      "False\n"
     ]
    }
   ],
   "source": [
    "# Input a year\n",
    "year = int(input(\"Enter a year: \"))\n",
    "\n",
    "# Check if it's a leap year\n",
    "is_leap = (year % 4 == 0 and year % 100 != 0) or (year % 400 == 0)\n",
    "print(is_leap)\n"
   ]
  },
  {
   "cell_type": "code",
   "execution_count": 17,
   "id": "bfb0761f-b69e-413d-8b34-c7c0b90a5d3e",
   "metadata": {},
   "outputs": [
    {
     "name": "stdin",
     "output_type": "stream",
     "text": [
      "Enter a number:  153\n"
     ]
    },
    {
     "name": "stdout",
     "output_type": "stream",
     "text": [
      "True\n"
     ]
    }
   ],
   "source": [
    "# Input an integer\n",
    "num = int(input(\"Enter a number: \"))\n",
    "\n",
    "# Check if Armstrong number\n",
    "digits = len(str(num))\n",
    "sum_of_powers = sum(int(digit) ** digits for digit in str(num))\n",
    "\n",
    "# Output result\n",
    "print(sum_of_powers == num)\n",
    " "
   ]
  },
  {
   "cell_type": "code",
   "execution_count": 1,
   "id": "53d6f095-a565-49f0-89e9-6d06afb2f8ac",
   "metadata": {},
   "outputs": [
    {
     "name": "stdin",
     "output_type": "stream",
     "text": [
      "Enter the message:  Hello, Yavana\n",
      "Enter the key (shift amount, 1-25):  3\n"
     ]
    },
    {
     "name": "stdout",
     "output_type": "stream",
     "text": [
      "Encrypted Message: khoor, bdydqd\n",
      "Decrypted Message: hello, yavana\n"
     ]
    }
   ],
   "source": [
    "import string\n",
    "\n",
    "# Create a simple substitution cipher\n",
    "def generate_cipher(key):\n",
    "    \n",
    "    alphabet = string.ascii_lowercase\n",
    "    shifted = alphabet[key:] + alphabet[:key]\n",
    "    encryption_dict = {char: shifted[i] for i, char in enumerate(alphabet)}\n",
    "    decryption_dict = {v: k for k, v in encryption_dict.items()}\n",
    "    return encryption_dict, decryption_dict\n",
    "\n",
    "\n",
    "def encrypt_message(message, encryption_dict):\n",
    "   \n",
    "    encrypted = []\n",
    "    for char in message.lower():\n",
    "        if char in encryption_dict:\n",
    "            encrypted.append(encryption_dict[char])\n",
    "        else:\n",
    "            encrypted.append(char)  # Leave non-alphabet characters unchanged\n",
    "    return ''.join(encrypted)\n",
    "\n",
    "\n",
    "def decrypt_message(encrypted_message, decryption_dict):\n",
    "   \n",
    "    decrypted = []\n",
    "    for char in encrypted_message.lower():\n",
    "        if char in decryption_dict:\n",
    "            decrypted.append(decryption_dict[char])\n",
    "        else:\n",
    "            decrypted.append(char)  # Leave non-alphabet characters unchanged\n",
    "    return ''.join(decrypted)\n",
    "\n",
    "\n",
    "# Main Function\n",
    "if __name__ == \"__main__\":\n",
    "    # Input: Message and key\n",
    "    message = input(\"Enter the message: \")\n",
    "    key = int(input(\"Enter the key (shift amount, 1-25): \"))\n",
    "\n",
    "    # Generate cipher dictionaries\n",
    "    encryption_dict, decryption_dict = generate_cipher(key)\n",
    "\n",
    "    # Encrypt the message\n",
    "    encrypted = encrypt_message(message, encryption_dict)\n",
    "    print(f\"Encrypted Message: {encrypted}\")\n",
    "\n",
    "    # Decrypt the message\n",
    "    decrypted = decrypt_message(encrypted, decryption_dict)\n",
    "    print(f\"Decrypted Message: {decrypted}\")\n"
   ]
  },
  {
   "cell_type": "code",
   "execution_count": null,
   "id": "f9600b4f-d8d2-4f15-8a51-b6ceaab8d21b",
   "metadata": {},
   "outputs": [],
   "source": []
  }
 ],
 "metadata": {
  "kernelspec": {
   "display_name": "Python 3 (ipykernel)",
   "language": "python",
   "name": "python3"
  },
  "language_info": {
   "codemirror_mode": {
    "name": "ipython",
    "version": 3
   },
   "file_extension": ".py",
   "mimetype": "text/x-python",
   "name": "python",
   "nbconvert_exporter": "python",
   "pygments_lexer": "ipython3",
   "version": "3.12.4"
  }
 },
 "nbformat": 4,
 "nbformat_minor": 5
}
